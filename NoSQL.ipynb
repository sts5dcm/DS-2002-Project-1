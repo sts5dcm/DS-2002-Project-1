{
 "cells": [
  {
   "cell_type": "markdown",
   "id": "7130e6b1",
   "metadata": {},
   "source": [
    "## DS-2002 Project 1\n",
    "### Shireen Shah sts5dcm\n",
    "\n",
    "The Sakila sample database represents a DVD rental store. Data in SQL and JSON formats modified using MongoDB and loaded back into mySQL."
   ]
  },
  {
   "cell_type": "markdown",
   "id": "260b69d5",
   "metadata": {},
   "source": [
    "#### Import the Necessary Libraries"
   ]
  },
  {
   "cell_type": "code",
   "execution_count": 124,
   "id": "809f9845",
   "metadata": {},
   "outputs": [],
   "source": [
    "import os\n",
    "import json\n",
    "import numpy\n",
    "import datetime\n",
    "import pandas as pd\n",
    "\n",
    "import pymongo\n",
    "from sqlalchemy import create_engine"
   ]
  },
  {
   "cell_type": "markdown",
   "id": "aef262d0",
   "metadata": {},
   "source": [
    "#### Declare & Assign Connection Variables for the MongoDB Server, the MySQL Server & Databases "
   ]
  },
  {
   "cell_type": "code",
   "execution_count": null,
   "id": "bf52fb37",
   "metadata": {},
   "outputs": [],
   "source": [
    "mysql_uid = \"root\"\n",
    "mysql_pwd = \"p00k1e123\"\n",
    "mysql_hostname = \"127.0.0.1\"\n",
    "\n",
    "atlas_cluster_name = \"Sally.tiurofi\"\n",
    "atlas_user_name = \"sts5dcm\"\n",
    "atlas_password = \"p00k1e\"\n",
    "\n",
    "ma_conn_str = {\"local\" : f\"mongodb://localhost:27017/\",\n",
    "    \"atlas\" : f\"mongodb+srv://{atlas_user_name}:{atlas_password}@{atlas_cluster_name}.mongodb.net\"\n",
    "}\n",
    "\n",
    "msq_src_dbname = \"sakila\"\n",
    "ma_src_dbname = \"sakila_tables\"\n",
    "dst_dbname = \"sakila_dm\"\n",
    "\n",
    "print(f\"Local Connection String: {ma_conn_str['local']}\")\n",
    "print(f\"Atlas Connection String: {ma_conn_str['atlas']}\")  "
   ]
  },
  {
   "cell_type": "markdown",
   "id": "f1344eb8",
   "metadata": {},
   "source": [
    "#### Define Functions for Retrieval and Loading"
   ]
  },
  {
   "cell_type": "code",
   "execution_count": 136,
   "id": "9ebc2372",
   "metadata": {},
   "outputs": [],
   "source": [
    "def get_sql_dataframe(user_id, pwd, host_name, db_name, sql_query):\n",
    "    '''Create a connection to the MySQL database'''\n",
    "    msq_conn_str = f\"mysql+pymysql://{user_id}:{pwd}@{host_name}/{db_name}\"\n",
    "    sqlEngine = create_engine(msq_conn_str, pool_recycle=3600)\n",
    "    \n",
    "    '''Invoke the pd.read_sql() function to query the database, and fill a Pandas DataFrame.'''\n",
    "    conn = sqlEngine.connect()\n",
    "    dframe = pd.read_sql(sql_query, conn);\n",
    "    conn.close()\n",
    "    \n",
    "    return dframe\n",
    "\n",
    "def get_mongo_dataframe(connect_str, db_name, collection, query):\n",
    "    '''Create a connection to MongoDB'''\n",
    "    client = pymongo.MongoClient(connect_str)\n",
    "    \n",
    "    '''Query MongoDB, and fill a python list with documents to create a DataFrame'''\n",
    "    db = client[db_name]\n",
    "    dframe = pd.DataFrame(list(db[collection].find(query)))\n",
    "    dframe.drop(['_id'], axis=1, inplace=True)\n",
    "    client.close()\n",
    "    return dframe\n",
    "\n",
    "def set_dataframe(user_id, pwd, host_name, db_name, df, table_name, pk_column, db_operation):\n",
    "    '''Create a connection to the MySQL database'''\n",
    "    msq_conn_str = f\"mysql+pymysql://{user_id}:{pwd}@{host_name}/{db_name}\"\n",
    "    sqlEngine = create_engine(msq_conn_str, pool_recycle=3600)\n",
    "    connection = sqlEngine.connect()\n",
    "    \n",
    "    '''Invoke the Pandas DataFrame .to_sql( ) function to either create, or append to, a table'''\n",
    "    if db_operation == \"insert\":\n",
    "        df.to_sql(table_name, con=connection, index=False, if_exists='replace')\n",
    "        sqlEngine.execute(f\"ALTER TABLE {table_name} ADD PRIMARY KEY ({pk_column});\")\n",
    "            \n",
    "    elif db_operation == \"update\":\n",
    "        df.to_sql(table_name, con=connection, index=False, if_exists='append')\n",
    "    \n",
    "    connection.close()"
   ]
  },
  {
   "cell_type": "markdown",
   "id": "4bbb4b78",
   "metadata": {},
   "source": [
    "### Create Destination Database in MySQL"
   ]
  },
  {
   "cell_type": "code",
   "execution_count": null,
   "id": "ff47ebe4",
   "metadata": {},
   "outputs": [],
   "source": [
    "msq_conn_str = f\"mysql+pymysql://{mysql_uid}:{mysql_pwd}@{mysql_hostname}\"\n",
    "sqlEngine = create_engine(msq_conn_str, pool_recycle=3600)\n",
    "\n",
    "sqlEngine.execute(f\"DROP DATABASE IF EXISTS `{dst_dbname}`;\")\n",
    "sqlEngine.execute(f\"CREATE DATABASE `{dst_dbname}`;\")\n",
    "sqlEngine.execute(f\"USE {dst_dbname};\")"
   ]
  },
  {
   "cell_type": "markdown",
   "id": "469116a4",
   "metadata": {},
   "source": [
    "#### Populate MongoDB with Source Data\n",
    "You only need to run this cell once; however, the operation is *idempotent*.  In other words, it can be run multiple times without changing the end result."
   ]
  },
  {
   "cell_type": "code",
   "execution_count": null,
   "id": "82f410cc",
   "metadata": {},
   "outputs": [],
   "source": [
    "#populating mongo from local json \n",
    "\n",
    "client = pymongo.MongoClient(uri[\"atlas\"])\n",
    "db = client[ma_src_dbname]\n",
    "\n",
    "data_dir = os.path.join(os.getcwd(), 'sakila-db')\n",
    "\n",
    "json_files = {\"customer\" : 'sakila_customer.json'\n",
    "             }\n",
    "\n",
    "for file in json_files:\n",
    "    db.drop_collection(file)\n",
    "    json_file = os.path.join(data_dir, json_files[file])\n",
    "    with open(json_file, 'r') as openfile:\n",
    "        json_object = json.load(openfile)\n",
    "        file = db[file]\n",
    "        result = file.insert_many(json_object)\n",
    "        #print(f\"{file} was successfully loaded.\")\n",
    "\n",
    "        \n",
    "client.close()    "
   ]
  },
  {
   "cell_type": "markdown",
   "id": "53afc931",
   "metadata": {},
   "source": [
    "### Create and Populate the New Dimension Tables"
   ]
  },
  {
   "cell_type": "code",
   "execution_count": null,
   "id": "f86976f0",
   "metadata": {},
   "outputs": [],
   "source": [
    "query = {}\n",
    "collection = \"customer\"\n",
    "\n",
    "df_customer = get_mongo_dataframe(uri['atlas'], ma_src_dbname, collection, query)\n",
    "df_customer.head()"
   ]
  },
  {
   "cell_type": "code",
   "execution_count": null,
   "id": "c7b0d3cc",
   "metadata": {},
   "outputs": [],
   "source": [
    "# Extract Rental Data from mySQL\n",
    "\n",
    "sql_rental = \"SELECT * FROM sakila.rental;\"\n",
    "df_rental = get_sql_dataframe(mysql_uid, mysql_pwd, mysql_hostname, msq_src_dbname, sql_rental)\n",
    "df_rental.head()"
   ]
  },
  {
   "cell_type": "markdown",
   "id": "681e0169",
   "metadata": {},
   "source": [
    "#### Extract Date/Time Data from the Source MySQL Schema Into DataFrames\n"
   ]
  },
  {
   "cell_type": "code",
   "execution_count": null,
   "id": "6dbaf7ec",
   "metadata": {},
   "outputs": [],
   "source": [
    "# populate sakila_dm with dim_date prior to running below cell, run Create_Populate_Dim_Date.sql\n",
    "\n",
    "sql_dim_date = \"SELECT date_key, full_date FROM sakila_dm.dim_date;\"\n",
    "df_dim_date = get_sql_dataframe(mysql_uid, mysql_pwd, mysql_hostname, dst_dbname, sql_dim_date)\n",
    "df_dim_date.full_date = df_dim_date.full_date.astype('datetime64')\n",
    "df_dim_date.head(2)"
   ]
  },
  {
   "cell_type": "markdown",
   "id": "178309ce",
   "metadata": {},
   "source": [
    "#### Extract Payment Data from the Local File Source Into DataFrames"
   ]
  },
  {
   "cell_type": "code",
   "execution_count": null,
   "id": "0c76a3d8",
   "metadata": {},
   "outputs": [],
   "source": [
    "# finding and reading local JSON file\n",
    "\n",
    "json_pathname = '/Users/shireenshah/Documents/Shireen Shah_DS-2002_Project 1/sakila-db/sakila_payment.json'\n",
    "\n",
    "df_payment = pd.read_json(json_pathname)\n",
    "\n",
    "df_payment.head()"
   ]
  },
  {
   "cell_type": "markdown",
   "id": "b9fc55dc",
   "metadata": {},
   "source": [
    "### Transformations"
   ]
  },
  {
   "cell_type": "code",
   "execution_count": null,
   "id": "17eb1973",
   "metadata": {},
   "outputs": [],
   "source": [
    "# customer data\n",
    "\n",
    "df_customer.rename(columns={\"customer_id\":\"customer_key\",\"store_id\":\"store_key\",\"first_name\":\"customer_first_name\",\n",
    "                           \"last_name\":\"customer_last_name\", \"email\":\"customer_email\", 'address_id':'address_key'},\n",
    "                   inplace=True)\n",
    "\n",
    "df_customer.drop(['last_update', 'active', 'create_date'], axis=1, inplace=True)\n",
    "\n",
    "df_customer.head()"
   ]
  },
  {
   "cell_type": "code",
   "execution_count": null,
   "id": "751a6c7a",
   "metadata": {},
   "outputs": [],
   "source": [
    "# payment\n",
    "\n",
    "df_payment.rename(columns={\"payment_id\" : \"payment_key\", \"rental_id\":\"rental_key\"}, inplace=True)\n",
    "\n",
    "df_payment[['payment_date', 'payment_time']] = df_payment['payment_date'].str.split(' ', 1, expand=True)\n",
    "\n",
    "df_payment.drop(['customer_id', 'staff_id','last_update', 'payment_time'], axis=1, inplace=True)\n",
    "\n",
    "df_payment.head()"
   ]
  },
  {
   "cell_type": "code",
   "execution_count": null,
   "id": "ec2791af",
   "metadata": {
    "scrolled": true
   },
   "outputs": [],
   "source": [
    "# rental\n",
    "\n",
    "df_rental.rename(columns={\"rental_id\" : \"rental_key\", \"inventory_id\":\"inventory_key\", \"customer_id\":\"customer_key\",\n",
    "                         \"staff_id\":\"staff_key\"}, inplace=True)\n",
    "\n",
    "\n",
    "df_rental['rental_date'] = df_rental['rental_date'].astype(str)\n",
    "df_rental[['rental_date', 'rental_time']] = df_rental['rental_date'].str.split(' ', 1, expand=True)\n",
    "\n",
    "\n",
    "df_rental['return_date'] = df_rental['return_date'].astype(str)\n",
    "df_rental[['return_date', 'return_time']] = df_rental['return_date'].str.split(' ', 1, expand=True)\n",
    "\n",
    "\n",
    "df_rental.drop(['last_update', 'rental_time', 'return_time'], axis=1, inplace=True)\n",
    "\n",
    "df_rental.head()"
   ]
  },
  {
   "cell_type": "markdown",
   "id": "226ee2cc",
   "metadata": {},
   "source": [
    "### Create & Transform Fact Table"
   ]
  },
  {
   "cell_type": "code",
   "execution_count": null,
   "id": "334f551f",
   "metadata": {},
   "outputs": [],
   "source": [
    "# joining data frames using Pandas\n",
    "\n",
    "df_joined = pd.merge(df_customer, df_payment, on = 'customer_key', how = 'right')\n",
    "\n",
    "df_joined = pd.merge(df_joined, df_rental, on = 'rental_key', how = 'right')\n",
    "\n",
    "df_joined.head()"
   ]
  },
  {
   "cell_type": "code",
   "execution_count": null,
   "id": "c5785af4",
   "metadata": {},
   "outputs": [],
   "source": [
    "# add primary key, drop and reorder columns\n",
    "\n",
    "df_joined.drop(['rental_key','amount', 'customer_first_name','customer_last_name', 'customer_email'], axis=1, inplace=True)\n",
    "\n",
    "reordered = [ 'rental_date_key', 'return_date_key', 'payment_key', 'payment_date_key',\n",
    "                    'inventory_key', 'customer_key', 'staff_key', 'store_key', 'address_key']\n",
    "df_joined = df_joined[reordered]\n",
    "\n",
    "# primary key\n",
    "df_joined.insert(0, \"fact_rental_purchase_key\", range(1, df_joined.shape[0]+1))\n",
    "\n",
    "df_joined.head()"
   ]
  },
  {
   "cell_type": "markdown",
   "id": "8416304d",
   "metadata": {},
   "source": [
    "### Drop Unnessary Keys"
   ]
  },
  {
   "cell_type": "code",
   "execution_count": null,
   "id": "b0d25746",
   "metadata": {},
   "outputs": [],
   "source": [
    "df_customer.drop(['store_key', 'address_key'], axis=1, inplace=True)\n",
    "df_payment.drop(['rental_key', 'payment_date'], axis=1, inplace=True)\n",
    "df_customer.head()\n",
    "df_payment.head()"
   ]
  },
  {
   "cell_type": "markdown",
   "id": "2cfef004",
   "metadata": {},
   "source": [
    "### Load back into MySQL"
   ]
  },
  {
   "cell_type": "code",
   "execution_count": null,
   "id": "8d0d166c",
   "metadata": {},
   "outputs": [],
   "source": [
    "# fact table\n",
    "\n",
    "dataframe = df_joined\n",
    "table_name = 'fact_rental_payment'\n",
    "primary_key = 'fact_rental_purchase_key'\n",
    "db_operation = \"insert\"\n",
    "\n",
    "set_dataframe(mysql_uid, mysql_pwd, mysql_hostname, dst_dbname, dataframe, table_name, primary_key, db_operation)"
   ]
  },
  {
   "cell_type": "code",
   "execution_count": null,
   "id": "2612871f",
   "metadata": {},
   "outputs": [],
   "source": [
    "# customer dimension\n",
    "\n",
    "dataframe = df_customer\n",
    "table_name = 'dim_customer'\n",
    "primary_key = 'customer_key'\n",
    "db_operation = \"insert\"\n",
    "\n",
    "set_dataframe(mysql_uid, mysql_pwd, mysql_hostname, dst_dbname, dataframe, table_name, primary_key, db_operation)"
   ]
  },
  {
   "cell_type": "code",
   "execution_count": null,
   "id": "bc7d9ba3",
   "metadata": {},
   "outputs": [],
   "source": [
    "# payment dimension \n",
    "\n",
    "dataframe = df_payment\n",
    "table_name = 'dim_payment'\n",
    "primary_key = 'payment_key'\n",
    "db_operation = \"insert\"\n",
    "\n",
    "set_dataframe(mysql_uid, mysql_pwd, mysql_hostname, dst_dbname, dataframe, table_name, primary_key, db_operation)"
   ]
  },
  {
   "cell_type": "markdown",
   "id": "8834a1ba",
   "metadata": {},
   "source": [
    "### Validate in MySQL"
   ]
  },
  {
   "cell_type": "code",
   "execution_count": null,
   "id": "fc71289b",
   "metadata": {},
   "outputs": [],
   "source": [
    "sql_joined = \"SELECT * FROM sakila_dm.fact_rental_payment;\"\n",
    "df_sql_joined = get_sql_dataframe(mysql_uid, mysql_pwd, mysql_hostname, dst_dbname, sql_joined)\n",
    "df_sql_joined.head()"
   ]
  },
  {
   "cell_type": "code",
   "execution_count": null,
   "id": "57df4c7b",
   "metadata": {},
   "outputs": [],
   "source": [
    "sql_customer = \"SELECT * FROM sakila_dm.dim_customer;\"\n",
    "df_sql_customer = get_sql_dataframe(mysql_uid, mysql_pwd, mysql_hostname, dst_dbname, sql_customer)\n",
    "df_sql_customer.head()"
   ]
  },
  {
   "cell_type": "code",
   "execution_count": null,
   "id": "4602f0c0",
   "metadata": {},
   "outputs": [],
   "source": [
    "sql_payment = \"SELECT * FROM sakila_dm.dim_payment;\"\n",
    "df_sql_payment = get_sql_dataframe(mysql_uid, mysql_pwd, mysql_hostname, dst_dbname, sql_payment)\n",
    "df_sql_payment.head()"
   ]
  }
 ],
 "metadata": {
  "kernelspec": {
   "display_name": "Python 3 (ipykernel)",
   "language": "python",
   "name": "python3"
  },
  "language_info": {
   "codemirror_mode": {
    "name": "ipython",
    "version": 3
   },
   "file_extension": ".py",
   "mimetype": "text/x-python",
   "name": "python",
   "nbconvert_exporter": "python",
   "pygments_lexer": "ipython3",
   "version": "3.11.4"
  }
 },
 "nbformat": 4,
 "nbformat_minor": 5
}
